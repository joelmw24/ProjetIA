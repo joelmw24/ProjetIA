{
 "cells": [
  {
   "cell_type": "code",
   "execution_count": null,
   "metadata": {},
   "outputs": [],
   "source": [
    "import pandas as pd\n",
    "import matplotlib.pyplot as plt\n",
    "from sklearn.preprocessing import OrdinalEncoder, StandardScaler\n",
    "import numpy as np\n"
   ]
  },
  {
   "cell_type": "code",
   "execution_count": null,
   "metadata": {},
   "outputs": [],
   "source": [
    "#Extraction des données d’intérêt \n",
    "file_arbre = 'Data_Arbre.csv'\n",
    "data = pd.read_csv(file_arbre)\n",
    "\n",
    "#les colonnes pertinentes\n",
    "new_data = data.drop([\"longitude\" ,  \"latitude\", \"clc_quartier\" ,\"clc_secteur\", \"fk_arb_etat\", \"fk_port\",  \"fk_pied\" , \"fk_situation\",  \"fk_revetement\",  \"fk_prec_estim\" ,\"clc_nbr_diag\"  ,  \"fk_nomtech\" , \"villeca\",  \"feuillage\" , \"remarquable\"], axis=1)\n",
    "print(new_data)\n",
    "print(new_data.head())  # 5 premiers elements"
   ]
  }
 ],
 "metadata": {
  "language_info": {
   "name": "python"
  }
 },
 "nbformat": 4,
 "nbformat_minor": 2
}
